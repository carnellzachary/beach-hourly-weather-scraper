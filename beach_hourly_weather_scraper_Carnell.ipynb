{
 "cells": [
  {
   "cell_type": "code",
   "execution_count": 2,
   "id": "d51a4fce",
   "metadata": {},
   "outputs": [],
   "source": [
    "# Import essential libraries\n",
    "from bs4 import BeautifulSoup\n",
    "import requests\n",
    "import time\n",
    "import csv"
   ]
  },
  {
   "cell_type": "code",
   "execution_count": 3,
   "id": "2d2e65b6",
   "metadata": {},
   "outputs": [
    {
     "name": "stdout",
     "output_type": "stream",
     "text": [
      "Finished scraping Cedar Key\n",
      "Finished scraping Crescent Beach\n",
      "Finished scraping Fernandina Beach\n",
      "Finished scraping Flagler Beach\n",
      "Finished scraping Jacksonville Beach\n",
      "Finished scraping Neptune Beach\n",
      "Finished scraping St. Augustine Beach\n",
      "Finished scraping St. Pete Beach\n"
     ]
    }
   ],
   "source": [
    "# Create list of eight beaches near Gainesville, including their name and url\n",
    "beach_list = [{'name':'Cedar Key', 'url':'https://weather.com/weather/hourbyhour/l/Cedar+Key+FL?canonicalCityId=bb28a62d2243110b4fb73bc365ff5055a642b46474198b2d0d95907489f821f9'}, {'name':'Crescent Beach', 'url':'https://weather.com/weather/hourbyhour/l/Crescent+Beach+FL+USFL0994:1:US'}, {'name':'Fernandina Beach', 'url':'https://weather.com/weather/hourbyhour/l/Fernandina+Beach+FL?canonicalCityId=e2b080b1185d1ed5dddf546006ca29ba4c56243763a9fe5bc3ba12868343bad9'}, {'name':'Flagler Beach', 'url':'https://weather.com/weather/hourbyhour/l/Flagler+Beach+FL?canonicalCityId=257a6dc20177db56e73faaf6bf1c6a984bdeec76761d81764e944aaa85b25ca1'}, {'name':'Jacksonville Beach', 'url':'https://weather.com/weather/hourbyhour/l/Jacksonville+Beach+FL?canonicalCityId=8cd17a4ef12fc87328ae54dd7a3adb84f37d3ef7b70c791800e070c8261f5f6c'}, {'name':'Neptune Beach', 'url':'https://weather.com/weather/hourbyhour/l/Neptune+Beach+FL?canonicalCityId=41fd51fa06c503f9abf98d97876d9b6618e773c69d8b4c8c0160b52b0abb696b'}, {'name':'St. Augustine Beach', 'url':'https://weather.com/weather/hourbyhour/l/587a164e718da1d014e46176e4dceae6c76525f26ed40c4a79fa14deb1a8d33f'}, {'name':'St. Pete Beach', 'url':'https://weather.com/weather/hourbyhour/l/c929d484ba3a462ae3f93dcd8040ca1e28a85e81d2c75da93da25469d38f4367'}]\n",
    "\n",
    "# Test beach_list scraping with one url\n",
    "# beach_list = [{'name':'Cedar Key', 'url':'https://weather.com/weather/hourbyhour/l/Cedar+Key+FL?canonicalCityId=bb28a62d2243110b4fb73bc365ff5055a642b46474198b2d0d95907489f821f9'}]\n",
    "\n",
    "# Create list for hourly weather data\n",
    "hourly_weather_data = []\n",
    "\n",
    "# Create a function for scraping the beach weather URLs\n",
    "def scrape_hourly_weather(list_name):\n",
    "    # Loop through each beach to scrape the hourly weather page for each beach\n",
    "    for beach in list_name:\n",
    "        url = beach['url']\n",
    "        page = requests.get(url)\n",
    "        soup = BeautifulSoup(page.text, 'html.parser')\n",
    "\n",
    "        # Parent element containing every row of weather data\n",
    "        parent = soup.find('section', {'data-testid': 'HourlyForecast'})\n",
    "\n",
    "        # Header elements which display the day/date\n",
    "        headers = parent.find_all('h2', {'class': 'HourlyForecast--longDate--J_Pdh'})\n",
    "\n",
    "        # Find all rows of weather data after the second header, meaning every row (hour) of weather data for the following day\n",
    "        weather_rows = headers[1].find_all_next('summary', attrs={'class': 'Disclosure--Summary--3GiL4'})\n",
    "\n",
    "        # For each beach's weather page, loop through select rows of weather data to get the hourly weather for the following day, from 5am to 10pm\n",
    "        for row in weather_rows[5:23]:\n",
    "            hour = row.find('h3', attrs={'data-testid': 'daypartName'}).text.strip()\n",
    "            temp = row.find('span', attrs={'data-testid': 'TemperatureValue'}).text.strip()[:2]\n",
    "            cloudiness = row.find('span', attrs={'class': 'DetailsSummary--extendedData--307Ax'}).text.strip()\n",
    "            wind = row.find('span', attrs={'data-testid': 'Wind'}).text.strip()\n",
    "            rain_chance = row.find('span', attrs={'data-testid': 'PercentageValue'}).text.strip()\n",
    "\n",
    "            # Append hourly weather data to a list, which will later be used to write the CSV\n",
    "            hourly_weather_data.append({'name':beach['name'], 'hour':hour, 'temp':temp, 'cloudiness':cloudiness, 'wind':wind, 'rain_chance':rain_chance})\n",
    "\n",
    "        # Indicate when each beach's weather page has been scraped\n",
    "        print('Finished scraping ' + str(beach['name']))\n",
    "\n",
    "        # Add a short delay between each weather page, to avoid possibly overwhelming the server with requests and getting blocked\n",
    "        time.sleep(3)\n",
    "        \n",
    "# Call the function, passing the beach_list list\n",
    "scrape_hourly_weather(beach_list)"
   ]
  },
  {
   "cell_type": "code",
   "execution_count": 4,
   "id": "b0819764",
   "metadata": {},
   "outputs": [
    {
     "name": "stdout",
     "output_type": "stream",
     "text": [
      "Finished writing the CSV!\n"
     ]
    }
   ],
   "source": [
    "# Create a function for writing the hourly beach weather data to a CSV\n",
    "def write_csv(data_list, filename):\n",
    "    # Open a new CSV file\n",
    "    myfile = open(filename, 'w')\n",
    "\n",
    "    # Make a Python CSV writer object\n",
    "    writer = csv.writer(myfile)\n",
    "\n",
    "    # Write the column headings row \n",
    "    writer.writerow(['Name', 'Time (Hour)', 'Temperature', 'Cloudiness', 'Wind', 'Chance of Rain'])\n",
    "    \n",
    "    # Loop through the list of weather data and write a row of weather data for each hour that was appended to the hourly_weather_data list\n",
    "    for weather_hour in data_list:\n",
    "        writer.writerow([weather_hour['name'], weather_hour['hour'], weather_hour['temp'], weather_hour['cloudiness'], weather_hour['wind'], weather_hour['rain_chance']])\n",
    "     \n",
    "    # Close and save the file\n",
    "    myfile.close()\n",
    "    \n",
    "    print('Finished writing the CSV!')\n",
    "    \n",
    "# Call the function, passing the hourly_weather_data list and a filename\n",
    "write_csv(hourly_weather_data, 'hourly_beach_weather.csv')"
   ]
  },
  {
   "cell_type": "code",
   "execution_count": null,
   "id": "4e5988a7",
   "metadata": {},
   "outputs": [],
   "source": []
  }
 ],
 "metadata": {
  "kernelspec": {
   "display_name": "Python 3 (ipykernel)",
   "language": "python",
   "name": "python3"
  },
  "language_info": {
   "codemirror_mode": {
    "name": "ipython",
    "version": 3
   },
   "file_extension": ".py",
   "mimetype": "text/x-python",
   "name": "python",
   "nbconvert_exporter": "python",
   "pygments_lexer": "ipython3",
   "version": "3.11.1"
  }
 },
 "nbformat": 4,
 "nbformat_minor": 5
}
